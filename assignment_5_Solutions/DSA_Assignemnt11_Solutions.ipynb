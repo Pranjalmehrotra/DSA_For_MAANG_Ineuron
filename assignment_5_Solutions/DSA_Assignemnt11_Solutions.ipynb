{
  "nbformat": 4,
  "nbformat_minor": 0,
  "metadata": {
    "colab": {
      "private_outputs": true,
      "provenance": [],
      "collapsed_sections": []
    },
    "kernelspec": {
      "name": "python3",
      "display_name": "Python 3"
    },
    "language_info": {
      "name": "python"
    }
  },
  "cells": [
    {
      "cell_type": "markdown",
      "source": [
        " Implement Queue using Stacks Implement a first in first out (FIFO) queue using only two stacks. The implemented queue should support all the functions of a normal queue (push, peek, pop, and empty). Question no 232 of the Leetcode. The exact ques can be found in the link: https://leetcode.com/problems/implement-queue-using-stacks/description/"
      ],
      "metadata": {
        "id": "BD1TCY_DKKVL"
      }
    },
    {
      "cell_type": "code",
      "execution_count": null,
      "metadata": {
        "id": "6XyD7y4MJ1lX"
      },
      "outputs": [],
      "source": [
        "# Only the Function definitions are there in the code.No driver code has been included.\n",
        "\n",
        "from collections import deque\n",
        "\n",
        "class MyQueue:\n",
        "    def __init__(self):\n",
        "     self.container = deque()\n",
        "    def push(self, x: int) -> None:\n",
        "     return self.container.appendleft(x)\n",
        "\n",
        "    def pop(self) -> int:\n",
        "        return self.container.pop()\n",
        "        \n",
        "    def peek(self) -> int:\n",
        "        return self.container[-1]\n",
        "\n",
        "    def empty(self) -> bool:\n",
        "        return len(self.container)==0"
      ]
    },
    {
      "cell_type": "markdown",
      "source": [
        "Implement a last-in-first-out (LIFO) stack using only two queues. The implemented stack should support all the functions of a normal stack (push, top, pop, and empty). The exact problem statement can be found here: https://leetcode.com/problems/implement-stack-using-queues/description/"
      ],
      "metadata": {
        "id": "up3sta-cKbLY"
      }
    },
    {
      "cell_type": "code",
      "source": [
        "# Only the Function definitions are there in the code.No driver code has been included.\n",
        "\n",
        "from collections import deque\n",
        "class MyStack:\n",
        "\n",
        "    def __init__(self):\n",
        "        self.container = deque()\n",
        "\n",
        "    def push(self, x: int) -> None:\n",
        "        return self.container.append(x)\n",
        "        \n",
        "    def pop(self) -> int:\n",
        "        return self.container.pop()\n",
        "        \n",
        "    def top(self) -> int:\n",
        "        return self.container[-1]\n",
        "\n",
        "    def empty(self) -> bool:\n",
        "        return len(self.container)==0"
      ],
      "metadata": {
        "id": "bSbiA66pKQXf"
      },
      "execution_count": null,
      "outputs": []
    }
  ]
}