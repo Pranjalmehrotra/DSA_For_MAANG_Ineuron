{
  "nbformat": 4,
  "nbformat_minor": 0,
  "metadata": {
    "colab": {
      "private_outputs": true,
      "provenance": [],
      "collapsed_sections": []
    },
    "kernelspec": {
      "name": "python3",
      "display_name": "Python 3"
    },
    "language_info": {
      "name": "python"
    }
  },
  "cells": [
    {
      "cell_type": "markdown",
      "source": [
        "You are a product manager and currently leading a team to develop a new product. Unfortunately, the latest version of your product fails the quality check. Since each version is developed based on the previous version, all the versions after a bad version are also bad. Suppose you have n version and you want to find out the first bad one, which causes all the following ones to be bad. Also, talk about the time complexity of your code.\n",
        "Test Cases:\n",
        "Input: [0,0,0,1,1,1,1,1,1]\n",
        "Output: 3\n",
        "Explanation: 0 indicates a good version and 1 indicates a bad version. So, the index of the first 1 is at 3. Thus, the output is 3\n"
      ],
      "metadata": {
        "id": "0zRpjjDq3yP4"
      }
    },
    {
      "cell_type": "code",
      "source": [
        "def firstBadVersion(array,n,low,high): \n",
        " mid = low + (high-low)//2\n",
        " print(\"The value of mid at the begining is {}\".format(mid))\n",
        " while (low < high):\n",
        "   if array[mid] ==1:\n",
        "       return mid\n",
        "   elif array[mid] < 1:                                        # We have to go to right side of array ---> low = mid+1\n",
        "     return firstBadVersion(array,n,mid+1,high)\n",
        "   else:                                        \n",
        "     return firstBadVersion(array,n,low,mid-1)                # We have to go to the left side of the array ---> high = mid -1\n",
        " return -1\n",
        "\n",
        "#Driver Code\n",
        "array = [0,1,1,1,1,1,1]\n",
        "n= len(array)\n",
        "print(n)\n",
        "firstBadVersion(array,n,0,n-1)"
      ],
      "metadata": {
        "id": "QNzob0F531rj"
      },
      "execution_count": null,
      "outputs": []
    },
    {
      "cell_type": "markdown",
      "source": [
        "Given a positive integer num, write a program that returns True if num is a perfect square else return False. Do not use built-in functions like sqrt. Also, talk about the time complexity of your code.\n",
        "Test Cases:\n",
        "Input: 16\n",
        "Output: True\n",
        "\n",
        "Input: 14\n",
        "Output: False\n"
      ],
      "metadata": {
        "id": "0GHRHX9r4B9g"
      }
    },
    {
      "cell_type": "code",
      "source": [
        "# Method 1 --->Brutt Force Approach\n",
        "def perfectSquare(number):\n",
        "  for num in range(2,number):                           # ------> O(n)\n",
        "    quotinet = (number / num)\n",
        "    if quotinet ==num :                                 # ------>O(1)\n",
        "      print(\"The number is a perfect number\")\n",
        "      break\n",
        "  else:\n",
        "    print(\"The number is not a perfect number\")\n",
        "    \n",
        "# Driver code\n",
        "number = int(input(\"Enter the number from the user : \")) \n",
        "perfectSquare(number)\n",
        "\n",
        "# Overall time complexity of the above problem will be O(n)"
      ],
      "metadata": {
        "id": "es9c88G14G5s"
      },
      "execution_count": null,
      "outputs": []
    },
    {
      "cell_type": "code",
      "source": [
        "# Method 2 -->Using Binary Search\n",
        "def checkPerfectSquare(N, start, last):\n",
        " \n",
        "    mid = int((start + last) / 2)\n",
        " \n",
        "    if (start > last):       #------------->O(1)\n",
        "        return -1\n",
        "\n",
        "    if (mid * mid == N):     #------------->O(1)\n",
        "        return mid\n",
        "\n",
        "    elif (mid * mid > N):   # ------------->O(1)\n",
        "        return checkPerfectSquare(N, start,mid - 1)   # ----------->T(n/2)\n",
        "\n",
        "    else:\n",
        "        return checkPerfectSquare(N, mid + 1, last)   # -------------> T(n/2)\n",
        " \n",
        "# Driver code\n",
        "N = 65\n",
        "print (checkPerfectSquare(N, 1, N))\n",
        "\n",
        "# Time complexity:\n",
        "# T(n) = O(1)+O(1)+O(1)+T(n/2)\n",
        "# T(n) = c + T(n/2)\n",
        "# Applying the masters theorem, we have got the O(nlogn)"
      ],
      "metadata": {
        "id": "kZd2WmHdzvLM"
      },
      "execution_count": null,
      "outputs": []
    },
    {
      "cell_type": "markdown",
      "source": [
        "Compute and return the square root of x, where x is guaranteed to be a non-negative integer. And since the return type is an integer, the decimal digits are truncated and only the integer part of the result is returned. Also, talk about the time complexity of your code.\n",
        "\n",
        "Test Cases:\n",
        "Input: 4\n",
        "Output: 2\n",
        "\n",
        "Input: 8\n",
        "Output: 2\n",
        "Explanation: The square root of 8 is 2.8284…., the decimal part is truncated and 2 is returned.\n",
        "\n",
        "Hint: Try to use a modified binary search approach for an optimized solution\n"
      ],
      "metadata": {
        "id": "9ZSNBla54Cw8"
      }
    },
    {
      "cell_type": "code",
      "source": [
        "def squareRoot(number, precision):\n",
        " \n",
        "    start = 0\n",
        "    end, ans = number, 1\n",
        " \n",
        "    while (start <= end):\n",
        "        mid = int((start + end) / 2)      \n",
        "  \n",
        "        if (mid * mid == number):\n",
        "            ans = mid\n",
        "            break\n",
        " \n",
        "        if (mid * mid < number):\n",
        "            start = mid + 1\n",
        "            ans = mid\n",
        " \n",
        "        else:\n",
        "            end = mid - 1\n",
        " \n",
        "    increment = 0.1\n",
        "    for i in range(0, precision):\n",
        "        while (ans * ans <= number):\n",
        "            ans += increment\n",
        "        ans = ans - increment\n",
        "        increment = increment / 10\n",
        " \n",
        "    return ans\n",
        " \n",
        " \n",
        "# Driver code\n",
        "print(round(squareRoot(58,0), 4))\n",
        "print(round(squareRoot(1090,0), 4))"
      ],
      "metadata": {
        "id": "qw1-UAEe4Hcw"
      },
      "execution_count": null,
      "outputs": []
    }
  ]
}