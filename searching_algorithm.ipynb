{
  "nbformat": 4,
  "nbformat_minor": 0,
  "metadata": {
    "colab": {
      "private_outputs": true,
      "provenance": []
    },
    "kernelspec": {
      "name": "python3",
      "display_name": "Python 3"
    },
    "language_info": {
      "name": "python"
    }
  },
  "cells": [
    {
      "cell_type": "markdown",
      "source": [
        "#### **First application of Divide and Conquer**\n",
        "1. Binary Search : This Search algorithm works in an array of elements that are already **sorted** by ignoring half of the elements after just one comparison and the basic principle of binary search designing is **divide and conquer algorithms paradigm**."
      ],
      "metadata": {
        "id": "SQfCGLWyjj-L"
      }
    },
    {
      "cell_type": "code",
      "source": [
        "## Linear Search Algorithm Implementation\n",
        "def LinearSearch(arr,x,n):\n",
        "  for i in range(n):\n",
        "    if (arr[i] == x):\n",
        "      return i\n",
        "  return -1   # -1 indicates that an element which you want \n",
        "                  #  to search is not present in an array\n",
        "# Driver Code\n",
        "arr = [53,21,90,32,47,89,90]\n",
        "x = 100\n",
        "n = len(arr)\n",
        "#print(n)\n",
        "LinearSearch(arr,x,n)"
      ],
      "metadata": {
        "id": "m4HPsB_bjiUZ"
      },
      "execution_count": null,
      "outputs": []
    },
    {
      "cell_type": "markdown",
      "source": [
        "####**Binary Search Implementation**"
      ],
      "metadata": {
        "id": "5SoWOUyHjnot"
      }
    },
    {
      "cell_type": "markdown",
      "source": [
        "##### Steps of Binary Search Implementation:\n",
        "1. Compare x with the middle element.\n",
        "2. If x matches with the middle element, we return the mid index.\n",
        "3. Else if x is greater than the mid element, then x can only lie in the right (greater) half subarray after the mid element. Then we apply the algorithm again for the right half.\n",
        "4. Else if x is smaller, the target x must lie in the left (lower) half. So we apply the algorithm for the left half."
      ],
      "metadata": {
        "id": "DLqTy_gojtqV"
      }
    },
    {
      "cell_type": "markdown",
      "source": [
        "#### **Recursive Approach of Binary Search**\n"
      ],
      "metadata": {
        "id": "fbMFeFx7kAD8"
      }
    },
    {
      "cell_type": "code",
      "source": [
        "## Binary Search - Recursive Approach\n",
        "def BinarySearch(arr,low,high,x):\n",
        "  # First check whether the problem is big or small\n",
        "  # Considering this as small problem\n",
        "  if (low == high):                                  ##Small Problem -> O(1) \n",
        "    if (arr[low] == x):\n",
        "      return low\n",
        "    else:\n",
        "      return -1                                     ## Element is not present in an array\n",
        "  # Big Problem -> Use Divide and Conquer Algorithm\n",
        "  else:\n",
        "    mid = low + (high - low)//2                       ## Divide -> O(1)\n",
        "    #print(mid)\n",
        "    if (arr[mid] == x):   \n",
        "      return mid                                                                                   \n",
        "    elif (arr[mid] < x):\n",
        "      return BinarySearch(arr,mid+1,high,x)           ## Conquer -> Recursive Call -> T(n/2)\n",
        "    else:\n",
        "      return BinarySearch(arr,low,mid-1,x)            ## Conquer -> Recursive Call -> T(n/2)\n",
        "\n",
        "#arr = [2,5,7,12,34,56,79,80,90]\n",
        "arr1 = [2,5,7,80,80,100,139,190,290]\n",
        "#arr = [2,5]\n",
        "x = 139\n",
        "n = len(arr1)\n",
        "pos = BinarySearch(arr1,0,n-1,x)                       ## Function Calling\n",
        "print(\"Searching Element is at index:\", pos)"
      ],
      "metadata": {
        "id": "1NvNNwfFjp65"
      },
      "execution_count": null,
      "outputs": []
    },
    {
      "cell_type": "markdown",
      "source": [
        "#### **Iterative Approach of Binary Search**"
      ],
      "metadata": {
        "id": "YwkEd5Zojzt7"
      }
    },
    {
      "cell_type": "code",
      "source": [
        "## Binary Search - Iterative Approach\n",
        "def BinarySearch(arr,low,high,x):\n",
        "  while(low <= high):\n",
        "    # Dividing the problem\n",
        "    mid = low + (high - low)//2\n",
        "    # if x is greater, ignore the left half\n",
        "    if (arr[mid] < x):\n",
        "      low = mid + 1\n",
        "    # if x is smaller, ignore the right half\n",
        "    elif (arr[mid] > x):\n",
        "      high = mid - 1\n",
        "    # x is present at the mid\n",
        "    else:\n",
        "      return mid\n",
        "  # searched element not present in an array\n",
        "  return -1\n",
        "\n",
        "## Drive Code\n",
        "arr = [2,5,7,12,34,56,79,80,90]\n",
        "x = 90\n",
        "n = len(arr)\n",
        "pos = BinarySearch(arr,0,n-1,x)\n",
        "print(pos)"
      ],
      "metadata": {
        "id": "B9vOFulejwcJ"
      },
      "execution_count": null,
      "outputs": []
    }
  ]
}