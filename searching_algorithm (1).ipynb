{
  "nbformat": 4,
  "nbformat_minor": 0,
  "metadata": {
    "colab": {
      "private_outputs": true,
      "provenance": []
    },
    "kernelspec": {
      "name": "python3",
      "display_name": "Python 3"
    },
    "language_info": {
      "name": "python"
    }
  },
  "cells": [
    {
      "cell_type": "markdown",
      "source": [
        "#### **First application of Divide and Conquer**\n",
        "1. Binary Search : This Search algorithm works in an array of elements that are already **sorted** by ignoring half of the elements after just one comparison and the basic principle of binary search designing is **divide and conquer algorithms paradigm**."
      ],
      "metadata": {
        "id": "SQfCGLWyjj-L"
      }
    },
    {
      "cell_type": "code",
      "source": [
        "## Linear Search Algorithm Implementation\n",
        "def LinearSearch(arr,x,n):\n",
        "  for i in range(n):\n",
        "    if (arr[i] == x):\n",
        "      return i\n",
        "  return -1   # -1 indicates that an element which you want\n",
        "                  #  to search is not present in an array\n",
        "# Driver Code\n",
        "arr = [53,21,90,32,47,89,90]\n",
        "x = 100\n",
        "n = len(arr)\n",
        "#print(n)\n",
        "LinearSearch(arr,x,n)"
      ],
      "metadata": {
        "id": "m4HPsB_bjiUZ"
      },
      "execution_count": null,
      "outputs": []
    },
    {
      "cell_type": "markdown",
      "source": [
        "####**Binary Search Implementation**"
      ],
      "metadata": {
        "id": "5SoWOUyHjnot"
      }
    },
    {
      "cell_type": "markdown",
      "source": [
        "##### Steps of Binary Search Implementation:\n",
        "1. Compare x with the middle element.\n",
        "2. If x matches with the middle element, we return the mid index.\n",
        "3. Else if x is greater than the mid element, then x can only lie in the right (greater) half subarray after the mid element. Then we apply the algorithm again for the right half.\n",
        "4. Else if x is smaller, the target x must lie in the left (lower) half. So we apply the algorithm for the left half."
      ],
      "metadata": {
        "id": "DLqTy_gojtqV"
      }
    },
    {
      "cell_type": "markdown",
      "source": [
        "#### **Recursive Approach of Binary Search**\n"
      ],
      "metadata": {
        "id": "fbMFeFx7kAD8"
      }
    },
    {
      "cell_type": "code",
      "source": [
        "## Binary Search - Recursive Approach\n",
        "def BinarySearch(arr,low,high,x):\n",
        "  # First check whether the problem is big or small\n",
        "  # Considering this as small problem\n",
        "  if (low == high):                                  ##Small Problem -> O(1)\n",
        "    if (arr[low] == x):\n",
        "      return low\n",
        "    else:\n",
        "      return -1                                     ## Element is not present in an array\n",
        "  # Big Problem -> Use Divide and Conquer Algorithm\n",
        "  else:\n",
        "    mid = low + (high - low)//2                       ## Divide -> O(1)\n",
        "    #print(mid)\n",
        "    if (arr[mid] == x):\n",
        "      return mid\n",
        "    elif (arr[mid] < x):\n",
        "      return BinarySearch(arr,mid+1,high,x)           ## Conquer -> Recursive Call -> T(n/2)\n",
        "    else:\n",
        "      return BinarySearch(arr,low,mid-1,x)            ## Conquer -> Recursive Call -> T(n/2)\n",
        "\n",
        "#arr = [2,5,7,12,34,56,79,80,90]\n",
        "arr1 = [2,5,7,80,80,100,139,190,290]\n",
        "#arr = [2,5]\n",
        "x = 139\n",
        "n = len(arr1)\n",
        "pos = BinarySearch(arr1,0,n-1,x)                       ## Function Calling\n",
        "print(\"Searching Element is at index:\", pos)"
      ],
      "metadata": {
        "id": "1NvNNwfFjp65"
      },
      "execution_count": null,
      "outputs": []
    },
    {
      "cell_type": "markdown",
      "source": [
        "#### **Iterative Approach of Binary Search**"
      ],
      "metadata": {
        "id": "YwkEd5Zojzt7"
      }
    },
    {
      "cell_type": "code",
      "source": [
        "## Binary Search - Iterative Approach\n",
        "def BinarySearch(arr,low,high,x):\n",
        "  while(low <= high):\n",
        "    # Dividing the problem\n",
        "    mid = low + (high - low)//2\n",
        "    # if x is greater, ignore the left half\n",
        "    if (arr[mid] < x):\n",
        "      low = mid + 1\n",
        "    # if x is smaller, ignore the right half\n",
        "    elif (arr[mid] > x):\n",
        "      high = mid - 1\n",
        "    # x is present at the mid\n",
        "    else:\n",
        "      return mid\n",
        "  # searched element not present in an array\n",
        "  return -1\n",
        "\n",
        "## Drive Code\n",
        "arr = [2,5,7,12,34,56,79,80,90]\n",
        "x = 90\n",
        "n = len(arr)\n",
        "pos = BinarySearch(arr,0,n-1,x)\n",
        "print(pos)"
      ],
      "metadata": {
        "id": "B9vOFulejwcJ"
      },
      "execution_count": null,
      "outputs": []
    },
    {
      "cell_type": "markdown",
      "source": [
        "####**Ternary Search Implementation**"
      ],
      "metadata": {
        "id": "Q_uMluuWlnoq"
      }
    },
    {
      "cell_type": "markdown",
      "source": [
        "**Part 1: Implentation via Iterative Approach**"
      ],
      "metadata": {
        "id": "JDzwcjOwCLtx"
      }
    },
    {
      "cell_type": "code",
      "source": [
        "def ternarySearch(arr,low,high,key):\n",
        "\n",
        "  #mid1 = low + (high - low)//3\n",
        "  #mid2 = high - (high - low)//3\n",
        "  while(low <= high):\n",
        "    mid1 = low + (high - low)//3\n",
        "    mid2 = high - (high - low)//3\n",
        "\n",
        "    if(arr[mid1]==key):\n",
        "      return mid1\n",
        "\n",
        "    elif(arr[mid2]==key):\n",
        "      return mid2\n",
        "\n",
        " # Part 1--->traversing\n",
        "\n",
        "    elif(arr[mid1]>key):\n",
        "      high = mid1-1\n",
        "\n",
        " # Part 2 ---->traversing\n",
        "    elif(arr[mid2]> key):\n",
        "      low = mid1 + 1\n",
        "      high = mid2-1\n",
        "\n",
        "\n",
        " # Part3 --->trversing\n",
        "    else:\n",
        "      low = mid2 +1\n",
        "  return -1\n",
        "\n",
        "# Driver code:\n",
        "\n",
        "arr = [20,25,47,56,59,63,65,79,82]\n",
        "key  = int(input('Enter the number you want to search: '))\n",
        "low = 0\n",
        "high = len(arr)-1\n",
        "result = ternarySearch(arr,low,high,key)\n",
        "print('The required number is present at the index {}'.format(result))\n",
        "\n",
        "\n"
      ],
      "metadata": {
        "id": "WGknlkc8mCyo"
      },
      "execution_count": null,
      "outputs": []
    },
    {
      "cell_type": "markdown",
      "source": [
        "**Part 2 :Implementation via Recursion**"
      ],
      "metadata": {
        "id": "YHUkh_4zF8ex"
      }
    },
    {
      "cell_type": "code",
      "source": [
        "def ternarySearch(arr,low,high,key):\n",
        "\n",
        "  mid1 = low + (high - low)//3\n",
        "  mid2 = high - (high - low)//3\n",
        "\n",
        "  while(low <= high):\n",
        "\n",
        "    if(arr[mid1]==key):\n",
        "      return mid1\n",
        "\n",
        "    elif(arr[mid2]==key):\n",
        "      return mid2\n",
        "\n",
        " # Part 1--->traversing\n",
        "\n",
        "    elif(arr[mid1]>key):\n",
        "      return ternarySearch(arr,low,mid1-1,key)\n",
        "\n",
        " # Part 2 ---->traversing\n",
        "\n",
        "    elif(arr[mid2]> key):\n",
        "      return ternarySearch(arr,mid1+1,mid2-1,key)\n",
        "\n",
        " # Part3 --->trversing\n",
        "\n",
        "    else:\n",
        "      return ternarySearch(arr,mid2+1,high,key)\n",
        "\n",
        "  return -1\n",
        "\n",
        "# Driver code:\n",
        "\n",
        "arr = [20,25,47,56,59,63,65,79,82]\n",
        "key  = int(input('Enter the number you want to search: '))\n",
        "low = 0\n",
        "high = len(arr)-1\n",
        "result = ternarySearch(arr,low,high,key)\n",
        "print('The required number is present at the index {}'.format(result))\n"
      ],
      "metadata": {
        "id": "OJV8JrEoGB2m"
      },
      "execution_count": null,
      "outputs": []
    }
  ]
}